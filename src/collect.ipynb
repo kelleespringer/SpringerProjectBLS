{
  "nbformat": 4,
  "nbformat_minor": 0,
  "metadata": {
    "colab": {
      "provenance": []
    },
    "kernelspec": {
      "name": "python3",
      "display_name": "Python 3"
    },
    "language_info": {
      "name": "python"
    }
  },
  "cells": [
    {
      "cell_type": "code",
      "execution_count": 5,
      "metadata": {
        "id": "77gulch3g8nA"
      },
      "outputs": [],
      "source": [
        "import requests\n",
        "import pandas as pd\n",
        "import json\n",
        "import time\n",
        "\n",
        "url = \"https://api.bls.gov/publicAPI/v2/timeseries/data/\"\n",
        "api_key = \"17bce7d6b41147c597fde4dddd66e58c\"\n",
        "series_ids = [\n",
        "    \"CEU0000000001\",\n",
        "    \"LNS14000000\",\n",
        "    \"LNS11000000\"\n",
        "]\n",
        "\n",
        "def fetch_bls_data(series_id):\n",
        "    params = {\n",
        "        \"registrationKey\": api_key,\n",
        "        \"seriesid\": [series_id],\n",
        "        \"startyear\": \"2023\",\n",
        "        \"endyear\": \"2024\"\n",
        "    }\n",
        "\n",
        "    response = requests.post(url, data=params)\n",
        "    if response.status_code == 200:\n",
        "        data = response.json()\n",
        "        return data['Results']['series']\n",
        "    else:\n",
        "        print(f\"Failed to fetch data for {series_id}. Status code: {response.status_code}\")\n",
        "        print(response.text)\n",
        "        return None\n",
        "\n",
        "\n",
        "data = {}\n",
        "for series_id in series_ids:\n",
        "    data[series_id] = fetch_bls_data(series_id)\n",
        "\n",
        "def parse_bls_data(raw_data):\n",
        "    records = []\n",
        "    for series in raw_data:\n",
        "        series_id = series['seriesID']\n",
        "        for item in series['data']:\n",
        "            records.append({\n",
        "                \"series_id\": series_id,\n",
        "                \"year\": item['year'],\n",
        "                \"period\": item['period'],\n",
        "                \"value\": item['value'],\n",
        "                \"date\": f\"{item['year']}-{item['period'][:2]}\"\n",
        "            })\n",
        "    return pd.DataFrame(records)\n",
        "\n",
        "df = pd.concat([parse_bls_data(data[series_id]) for series_id in series_ids if data[series_id] is not None], ignore_index=True)\n",
        "\n",
        "df.to_csv(\"bls_data.csv\", index=False)"
      ]
    }
  ]
}